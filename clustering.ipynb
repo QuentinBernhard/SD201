{
 "cells": [
  {
   "cell_type": "code",
   "execution_count": null,
   "metadata": {},
   "outputs": [],
   "source": [
    "import pandas as pd\n",
    "from sklearn.cluster import KMeans\n",
    "from sklearn.manifold import TSNE"
   ]
  },
  {
   "cell_type": "code",
   "execution_count": null,
   "metadata": {},
   "outputs": [],
   "source": [
    "tsne = TSNE(3, random_state=53)             #53 correspond au random state avec le moins d'inertie (erreur)\n",
    "tsne_result = tsne.fit_transform(d)\n",
    "\n",
    "print(tsne_result.shape)\n",
    "\n",
    "km = KMeans(\n",
    "n_clusters=13, init='k-means++',\n",
    "n_init=10, max_iter=300, \n",
    "tol=1e-04, random_state=0)\n",
    "\n",
    "y_km = km.fit_predict(tsne_result)\n",
    "\n",
    "\n",
    "# clusterCenters.append(km.cluster_centers_)"
   ]
  },
  {
   "cell_type": "code",
   "execution_count": null,
   "metadata": {},
   "outputs": [],
   "source": []
  }
 ],
 "metadata": {
  "interpreter": {
   "hash": "b0fa6594d8f4cbf19f97940f81e996739fb7646882a419484c72d19e05852a7e"
  },
  "kernelspec": {
   "display_name": "Python 3.9.13 64-bit",
   "language": "python",
   "name": "python3"
  },
  "language_info": {
   "name": "python",
   "version": "3.9.13"
  },
  "orig_nbformat": 4
 },
 "nbformat": 4,
 "nbformat_minor": 2
}
